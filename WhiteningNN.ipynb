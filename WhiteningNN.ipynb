{
 "cells": [
  {
   "cell_type": "code",
   "execution_count": 20,
   "metadata": {},
   "outputs": [
    {
     "ename": "IndexError",
     "evalue": "only integers, slices (`:`), ellipsis (`...`), None and long or byte Variables are valid indices (got numpy.float64)",
     "output_type": "error",
     "traceback": [
      "\u001b[0;31m---------------------------------------------------------------------------\u001b[0m",
      "\u001b[0;31mIndexError\u001b[0m                                Traceback (most recent call last)",
      "\u001b[0;32m<ipython-input-20-18f80e433c12>\u001b[0m in \u001b[0;36m<module>\u001b[0;34m()\u001b[0m\n\u001b[1;32m    216\u001b[0m \u001b[0;31m#         transformed_mats_2.append(coord_to_img(np.matmul(R, coord_mat - mean_mat).copy(), bbox=[-60,60,-60,60]))\u001b[0m\u001b[0;34m\u001b[0m\u001b[0;34m\u001b[0m\u001b[0m\n\u001b[1;32m    217\u001b[0m \u001b[0;34m\u001b[0m\u001b[0m\n\u001b[0;32m--> 218\u001b[0;31m         \u001b[0mimg2\u001b[0m \u001b[0;34m=\u001b[0m \u001b[0mscale_and_rotate\u001b[0m\u001b[0;34m(\u001b[0m\u001b[0mimg2\u001b[0m\u001b[0;34m)\u001b[0m\u001b[0;34m\u001b[0m\u001b[0m\n\u001b[0m\u001b[1;32m    219\u001b[0m         \u001b[0mprint\u001b[0m\u001b[0;34m(\u001b[0m\u001b[0mfolder\u001b[0m\u001b[0;34m,\u001b[0m \u001b[0mindex\u001b[0m\u001b[0;34m)\u001b[0m\u001b[0;34m\u001b[0m\u001b[0m\n\u001b[1;32m    220\u001b[0m         \u001b[0mtransformed_mats\u001b[0m\u001b[0;34m.\u001b[0m\u001b[0mappend\u001b[0m\u001b[0;34m(\u001b[0m\u001b[0mimg2\u001b[0m\u001b[0;34m.\u001b[0m\u001b[0mdata\u001b[0m\u001b[0;34m.\u001b[0m\u001b[0mnumpy\u001b[0m\u001b[0;34m(\u001b[0m\u001b[0;34m)\u001b[0m\u001b[0;34m)\u001b[0m\u001b[0;34m\u001b[0m\u001b[0m\n",
      "\u001b[0;32m<ipython-input-20-18f80e433c12>\u001b[0m in \u001b[0;36mscale_and_rotate\u001b[0;34m(img)\u001b[0m\n\u001b[1;32m    186\u001b[0m     \u001b[0mtest\u001b[0m \u001b[0;34m=\u001b[0m \u001b[0mimg_to_coord\u001b[0m\u001b[0;34m(\u001b[0m\u001b[0mimg\u001b[0m\u001b[0;34m)\u001b[0m\u001b[0;34m\u001b[0m\u001b[0m\n\u001b[1;32m    187\u001b[0m     \u001b[0mnew_object\u001b[0m \u001b[0;34m=\u001b[0m \u001b[0mobject_extraction\u001b[0m\u001b[0;34m(\u001b[0m\u001b[0mnew_new_coord_mat\u001b[0m\u001b[0;34m,\u001b[0m \u001b[0mmin_val\u001b[0m\u001b[0;34m=\u001b[0m\u001b[0;36m0\u001b[0m\u001b[0;34m)\u001b[0m\u001b[0;34m\u001b[0m\u001b[0m\n\u001b[0;32m--> 188\u001b[0;31m     \u001b[0merase_object\u001b[0m\u001b[0;34m(\u001b[0m\u001b[0mimg\u001b[0m\u001b[0;34m,\u001b[0m \u001b[0mnew_object\u001b[0m\u001b[0;34m)\u001b[0m\u001b[0;34m\u001b[0m\u001b[0m\n\u001b[0m\u001b[1;32m    189\u001b[0m     \u001b[0mnew_object2\u001b[0m\u001b[0;34m,\u001b[0m \u001b[0m_\u001b[0m\u001b[0;34m,\u001b[0m \u001b[0m_\u001b[0m \u001b[0;34m=\u001b[0m \u001b[0morientation_normalization\u001b[0m\u001b[0;34m(\u001b[0m\u001b[0mnew_object\u001b[0m\u001b[0;34m)\u001b[0m\u001b[0;34m\u001b[0m\u001b[0m\n\u001b[1;32m    190\u001b[0m     \u001b[0mimg\u001b[0m \u001b[0;34m=\u001b[0m \u001b[0minsert_object\u001b[0m\u001b[0;34m(\u001b[0m\u001b[0mimg\u001b[0m\u001b[0;34m,\u001b[0m \u001b[0mnew_object2\u001b[0m\u001b[0;34m,\u001b[0m \u001b[0;34m[\u001b[0m\u001b[0;36m50\u001b[0m\u001b[0;34m,\u001b[0m \u001b[0;36m50\u001b[0m\u001b[0;34m]\u001b[0m\u001b[0;34m)\u001b[0m\u001b[0;34m\u001b[0m\u001b[0m\n",
      "\u001b[0;32m<ipython-input-20-18f80e433c12>\u001b[0m in \u001b[0;36merase_object\u001b[0;34m(img, new_object)\u001b[0m\n\u001b[1;32m    152\u001b[0m     \u001b[0;32mfor\u001b[0m \u001b[0mcol_num\u001b[0m \u001b[0;32min\u001b[0m \u001b[0mrange\u001b[0m\u001b[0;34m(\u001b[0m\u001b[0mnew_object\u001b[0m\u001b[0;34m.\u001b[0m\u001b[0mshape\u001b[0m\u001b[0;34m[\u001b[0m\u001b[0;36m1\u001b[0m\u001b[0;34m]\u001b[0m\u001b[0;34m)\u001b[0m\u001b[0;34m:\u001b[0m\u001b[0;34m\u001b[0m\u001b[0m\n\u001b[1;32m    153\u001b[0m         \u001b[0mcol\u001b[0m \u001b[0;34m=\u001b[0m \u001b[0mnew_object\u001b[0m\u001b[0;34m[\u001b[0m\u001b[0;34m:\u001b[0m\u001b[0;34m,\u001b[0m\u001b[0mcol_num\u001b[0m\u001b[0;34m]\u001b[0m\u001b[0;34m\u001b[0m\u001b[0m\n\u001b[0;32m--> 154\u001b[0;31m         \u001b[0mimg\u001b[0m\u001b[0;34m[\u001b[0m\u001b[0mimg\u001b[0m\u001b[0;34m.\u001b[0m\u001b[0mshape\u001b[0m\u001b[0;34m[\u001b[0m\u001b[0;36m0\u001b[0m\u001b[0;34m]\u001b[0m\u001b[0;34m-\u001b[0m\u001b[0mcol\u001b[0m\u001b[0;34m[\u001b[0m\u001b[0;36m1\u001b[0m\u001b[0;34m]\u001b[0m\u001b[0;34m,\u001b[0m \u001b[0mcol\u001b[0m\u001b[0;34m[\u001b[0m\u001b[0;36m0\u001b[0m\u001b[0;34m]\u001b[0m\u001b[0;34m]\u001b[0m \u001b[0;34m=\u001b[0m \u001b[0;36m0\u001b[0m\u001b[0;34m\u001b[0m\u001b[0m\n\u001b[0m\u001b[1;32m    155\u001b[0m \u001b[0;34m\u001b[0m\u001b[0m\n\u001b[1;32m    156\u001b[0m \u001b[0;32mdef\u001b[0m \u001b[0minsert_object\u001b[0m\u001b[0;34m(\u001b[0m\u001b[0mimg\u001b[0m\u001b[0;34m,\u001b[0m \u001b[0mnew_object_coords\u001b[0m\u001b[0;34m,\u001b[0m \u001b[0mlocation\u001b[0m\u001b[0;34m)\u001b[0m\u001b[0;34m:\u001b[0m\u001b[0;34m\u001b[0m\u001b[0m\n",
      "\u001b[0;31mIndexError\u001b[0m: only integers, slices (`:`), ellipsis (`...`), None and long or byte Variables are valid indices (got numpy.float64)"
     ]
    }
   ],
   "source": [
    "# import matplotlib.pyplot as plt\n",
    "import numpy as np\n",
    "import os\n",
    "import cv2\n",
    "import time\n",
    "from natsort import natsorted\n",
    "import matplotlib.cm as cm\n",
    "import torch\n",
    "from torch.autograd import Variable\n",
    "from torch.nn.parameter import Parameter\n",
    "import mnist\n",
    "cmap = cm.hot\n",
    "\n",
    "def get_img_files(folder):\n",
    "    files = list(filter(lambda file: any(ext in file.lower() for ext in ['png','jpg','bmp']), os.listdir(folder)))\n",
    "    files = natsorted(files)[::1]\n",
    "    images = list(map(lambda x: cv2.imread(folder+'/'+x, 0), files))\n",
    "    return np.array(images)\n",
    "\n",
    "def img_to_coord(img):\n",
    "    coord_mat = np.zeros((3, img.shape[0]*img.shape[1]))\n",
    "    count = 0\n",
    "    for x in range(img.shape[1]):\n",
    "        for y in range(img.shape[0]):\n",
    "            coord_mat[0, count] = x\n",
    "            coord_mat[1, count] = img.shape[0]-y\n",
    "            coord_mat[2, count] = img[y, x]\n",
    "            count += 1\n",
    "    return coord_mat\n",
    "\n",
    "def img_to_coord_tensor(img):\n",
    "    height, width = img.shape\n",
    "    img_transpose = torch.transpose(img, 0, 1).contiguous().view(1, width * height)\n",
    "\n",
    "    x_coord = torch.arange(0, width).view(width, 1)\n",
    "    x_coord = x_coord.expand(width, height).contiguous()\n",
    "    x_coord = x_coord.view(1, width * height)\n",
    "\n",
    "    y_coord = torch.arange(height, 0, -1)\n",
    "    y_coord = y_coord.expand(width, height).contiguous()\n",
    "    y_coord = y_coord.view(1, width * height)\n",
    "\n",
    "    new_coord_matrix = np.vstack([x_coord.numpy(), y_coord.numpy()])\n",
    "    img_tensor = np.vstack([new_coord_matrix, img_transpose.data.numpy()])\n",
    "\n",
    "    return img_tensor\n",
    "\n",
    "def plot_coord_mat(coord_mat, ax):\n",
    "    ax.scatter(coord_mat[0, :], coord_mat[1, :], c=coord_mat[2, :])\n",
    "\n",
    "def rotation_matrix(degrees):\n",
    "    theta = np.radians(degrees)\n",
    "    c, s = np.cos(theta), np.sin(theta)\n",
    "    R = np.array(((c,-s, 0), (s, c, 0), (0, 0, 1)))\n",
    "    return R\n",
    "\n",
    "def weighted_pca_regression(x_vec, y_vec, weights):\n",
    "    \"\"\"\n",
    "    Given three real-valued vectors of same length, corresponding to the coordinates\n",
    "    and weight of a 2-dimensional dataset, this function outputs the angle in radians\n",
    "    of the line that aligns with the (weighted) average and main linear component of\n",
    "    the data. For that, first a weighted mean and covariance matrix are computed.\n",
    "    Then u,e,v=svd(cov) is performed, and u * f(x)=0 is solved.\n",
    "    \"\"\"\n",
    "    input_mat = np.stack([x_vec, y_vec])\n",
    "    weights_sum = weights.sum()\n",
    "    # Subtract (weighted) mean and compute (weighted) covariance matrix:\n",
    "    mean_x, mean_y =  weights.dot(x_vec)/weights_sum, weights.dot(y_vec)/weights_sum\n",
    "    centered_x, centered_y = x_vec-mean_x, y_vec-mean_y\n",
    "    matrix_centered = np.stack([centered_x, centered_y])\n",
    "    weighted_cov = matrix_centered.dot(np.diag(weights).dot(matrix_centered.T)) / weights_sum\n",
    "    # We know that v rotates the data's main component onto the y=0 axis, and\n",
    "    # that u rotates it back. Solving u.dot([x,0])=[x*u[0,0], x*u[1,0]] gives\n",
    "    # f(x)=(u[1,0]/u[0,0])x as the reconstructed function.\n",
    "    u,e,v = np.linalg.svd(weighted_cov)\n",
    "    eig_val = np.sqrt(e)\n",
    "    if u[1,0] < 0:\n",
    "        eig_val[0] = -1*eig_val[0]\n",
    "    if u[0,1] < 0:\n",
    "        eig_val[1] = -1*eig_val[1]\n",
    "        \n",
    "    return eig_val[0]*u[:,0], eig_val[1]*u[:,1], np.array([mean_x, mean_y])\n",
    "        \n",
    "def coord_to_img(coord_mat, bbox=[-60,60,-60,60]):\n",
    "    x_min = bbox[0]\n",
    "    x_max = bbox[1]\n",
    "    y_min = bbox[2]\n",
    "    y_max = bbox[3]\n",
    "    width = x_max - x_min\n",
    "    height = y_max - y_min\n",
    "    \n",
    "    img = np.zeros([y_max-y_min, x_max-x_min])\n",
    "    for col in range(coord_mat.shape[1]):\n",
    "        x = coord_mat[0, col]\n",
    "        y = coord_mat[1, col]\n",
    "        val = coord_mat[2, col]\n",
    "        new_x = int(x - x_min)\n",
    "        new_y = int(y_max - y)\n",
    "        if (0 <= new_x) and (new_x < width) and (0 <= new_y) and (new_y < height):\n",
    "            img[new_y, new_x] = val\n",
    "    return img\n",
    "\n",
    "def object_extraction(coord_mat, min_val=0.2):\n",
    "    min_pixel_val = np.repeat([[min_val]], coord_mat.shape[1], axis=1) \n",
    "    extracted_object_coords = np.greater(coord_mat, min_pixel_val)\n",
    "    new_object = coord_mat.copy()[:,extracted_object_coords[2,:]]\n",
    "    coord_mat[2,extracted_object_coords[2,:]] = 0\n",
    "    return new_object\n",
    "\n",
    "def orientation_normalization(coord_mat):\n",
    "        weights = coord_mat[2, :]\n",
    "        primary_vector, seconday_vector, mean_vector = weighted_pca_regression(coord_mat[0,:], coord_mat[1,:], coord_mat[2,:])\n",
    "        angle = np.arctan2(primary_vector[1], primary_vector[0]) * 180 / np.pi\n",
    "        R = rotation_matrix(90-angle)\n",
    "        mean_mat = np.array([mean_vector[0], mean_vector[1], 0])\n",
    "        mean_mat = np.diag(mean_mat)\n",
    "        mean_mat = np.matmul(mean_mat, np.ones(coord_mat.shape))\n",
    "        eig_1 = np.linalg.norm(primary_vector)\n",
    "        eig_2 = np.linalg.norm(seconday_vector)\n",
    "        norm_scale_mat = np.zeros([3,3])\n",
    "        norm_scale_mat[0,0] = 9/eig_2\n",
    "        norm_scale_mat[1,1] = 18/eig_1\n",
    "        norm_scale_mat[2,2] = 1\n",
    "        transformed_mat = np.matmul(norm_scale_mat, np.matmul(R, coord_mat - mean_mat))\n",
    "        return transformed_mat, R, mean_mat\n",
    "    \n",
    "def object_extraction(coord_mat, min_val=0.2):\n",
    "    min_pixel_val = np.repeat([[min_val]], coord_mat.shape[1], axis=1) \n",
    "    extracted_object_coords = np.greater(coord_mat, min_pixel_val)\n",
    "    new_object = coord_mat.copy()[:,extracted_object_coords[2,:]]\n",
    "    coord_mat[2,extracted_object_coords[2,:]] = 0\n",
    "    return new_object\n",
    "\n",
    "def orientation_normalization(coord_mat):\n",
    "        weights = coord_mat[2, :]\n",
    "        primary_vector, seconday_vector, mean_vector = weighted_pca_regression(coord_mat[0,:], coord_mat[1,:], coord_mat[2,:])\n",
    "        angle = np.arctan2(primary_vector[1], primary_vector[0]) * 180 / np.pi\n",
    "        R = rotation_matrix(90-angle)\n",
    "        mean_mat = np.array([mean_vector[0], mean_vector[1], 0])\n",
    "        mean_mat = np.diag(mean_mat)\n",
    "        mean_mat = np.matmul(mean_mat, np.ones(coord_mat.shape))\n",
    "        eig_1 = np.linalg.norm(primary_vector)\n",
    "        eig_2 = np.linalg.norm(seconday_vector)\n",
    "        norm_scale_mat = np.zeros([3,3])\n",
    "        norm_scale_mat[0,0] = 9/eig_2\n",
    "        norm_scale_mat[1,1] = 18/eig_1\n",
    "        norm_scale_mat[2,2] = 1\n",
    "        transformed_mat = np.matmul(norm_scale_mat, np.matmul(R, coord_mat - mean_mat))\n",
    "        return transformed_mat, R, mean_mat\n",
    "\n",
    "def erase_object(img, new_object):\n",
    "    for col_num in range(new_object.shape[1]):\n",
    "        col = new_object[:,col_num]\n",
    "        img[img.shape[0]-col[1], col[0]] = 0\n",
    "\n",
    "def insert_object(img, new_object_coords, location):\n",
    "    for col_num in range(new_object_coords.shape[1]):\n",
    "        col = new_object_coords[:, col_num]\n",
    "        x = np.clip(location[0] + col[0], 0, img.shape[1] - 1)\n",
    "        y = np.clip(-1*(location[1] + col[1] - 1)+img.shape[0], 0, img.shape[0] - 1)\n",
    "        spill_over_x = x % 1\n",
    "        spill_over_y = y % 1\n",
    "        ceil_x = int(np.ceil(x))\n",
    "        lower_x_weight = 1 - spill_over_x\n",
    "        heigher_x_weight = spill_over_x\n",
    "        \n",
    "        ceil_y = int(np.ceil(y))\n",
    "        lower_y_weight = 1 - spill_over_y\n",
    "        heigher_y_weight = spill_over_y   \n",
    "        \n",
    "        pixel_value = col[2]\n",
    "        max_pixel_val = 0.5\n",
    "        img[ceil_y, ceil_x] = img[ceil_y, ceil_x] + pixel_value*heigher_y_weight*heigher_x_weight\n",
    "        img[ceil_y, ceil_x - 1] = img[ceil_y, ceil_x - 1] + pixel_value*lower_x_weight*heigher_y_weight\n",
    "        img[ceil_y - 1, ceil_x] = img[ceil_y - 1, ceil_x] + pixel_value*lower_y_weight*heigher_x_weight\n",
    "        img[ceil_y - 1, ceil_x - 1] = img[ceil_y - 1, ceil_x - 1] + pixel_value*lower_y_weight*lower_x_weight\n",
    "        img[ceil_y, ceil_x] = min(float(img[ceil_y, ceil_x]), max_pixel_val)\n",
    "        img[ceil_y, ceil_x - 1] = min(float(img[ceil_y, ceil_x - 1]), max_pixel_val)\n",
    "        img[ceil_y - 1, ceil_x] = min(float(img[ceil_y - 1, ceil_x]), max_pixel_val)\n",
    "        img[ceil_y - 1, ceil_x - 1] = min(float(img[ceil_y - 1, ceil_x - 1]), max_pixel_val)\n",
    "#         img[ceil_y, ceil_x] = pixel_value\n",
    "    return img\n",
    "\n",
    "def scale_and_rotate(img):\n",
    "    new_new_coord_mat = img_to_coord_tensor(img)\n",
    "    test = img_to_coord(img)\n",
    "    new_object = object_extraction(new_new_coord_mat, min_val=0)\n",
    "    erase_object(img, new_object)\n",
    "    new_object2, _, _ = orientation_normalization(new_object)\n",
    "    img = insert_object(img, new_object2, [50, 50])\n",
    "    return img\n",
    "    \n",
    "\n",
    "\n",
    "for folder in ['fives','sixes','sevens','eights','nines','people'][:]:\n",
    "    imgs = get_img_files(os.getcwd()+'/'+folder)\n",
    "\n",
    "    coord_mats = []\n",
    "    transformed_mats = []\n",
    "    transformed_mats_2 = []\n",
    "#     fig, ax = plt.subplots(3, figsize=(10,10))\n",
    "    for index, img in enumerate(imgs[:]):\n",
    "        img = cv2.resize(img, (100,100))\n",
    "        img = img/img.max()\n",
    "        img2 = Variable(torch.from_numpy(img))\n",
    "        coord_mat = img_to_coord(img)\n",
    "        coord_mat_2 = img_to_coord_tensor(img2)\n",
    "#          plot_coord_mat(, ax[1])\n",
    "#         ax[0].set_xlim([0,100])\n",
    "#         ax[0].set_ylim([0,100])\n",
    "#         ax[1].set_xlim([-60,60])\n",
    "#         ax[1].set_ylim([-60,60])\n",
    "#         ax[1].set_title(\"{}, {}\".format(eig_1, eig_2))\n",
    "#         tansform_mat, R, mean_mat = orientation_normalization(coord_mat.copy())\n",
    "        coord_mats.append(coord_to_img(coord_mat.copy(), bbox=[0,100,0,100]))\n",
    "#         transformed_mats_2.append(coord_to_img(np.matmul(R, coord_mat - mean_mat).copy(), bbox=[-60,60,-60,60]))\n",
    "        \n",
    "        img2 = scale_and_rotate(img2)\n",
    "        print(folder, index)\n",
    "        transformed_mats.append(img2.data.numpy())\n",
    "        del img2\n",
    "\n",
    "    fig2, ax2 = plt.subplots(1,2,figsize=(15,15))\n",
    "    combined_orig = []\n",
    "    combined_transformed = []\n",
    "    # plot_coord_mat(coord_mats[0] + coord_mats[1], ax2[0])\n",
    "    combined_orig = sum(coord_mats)\n",
    "    combined_transformed = sum(transformed_mats)\n",
    "#     combined_transformed_2 = sum(transformed_mats_2)\n",
    "    ax2[0].imshow(combined_orig)\n",
    "    ax2[0].set_title(\"Overlay of Original\")\n",
    "#     ax2[1].imshow(combined_transformed_2)\n",
    "#     ax2[1].set_title(\"Overlay of Rotated\")\n",
    "    ax2[1].imshow(combined_transformed)\n",
    "    ax2[1].set_title(\"Overlay of Rotated & scaled\")\n",
    "#     fig2.savefig(\"Sevens_full.png\")\n",
    "plt.show()"
   ]
  },
  {
   "cell_type": "code",
   "execution_count": 2,
   "metadata": {},
   "outputs": [
    {
     "name": "stdout",
     "output_type": "stream",
     "text": [
      "(1, 60000)\n"
     ]
    },
    {
     "data": {
      "text/plain": [
       "array([[0],\n",
       "       [1],\n",
       "       [7],\n",
       "       ...,\n",
       "       [3],\n",
       "       [7],\n",
       "       [1]])"
      ]
     },
     "execution_count": 2,
     "metadata": {},
     "output_type": "execute_result"
    }
   ],
   "source": [
    "import scipy.io as sio\n",
    "mat_contents = sio.loadmat('/mnt/c/Users/Rees/Downloads/training_and_validation_batches/training_and_validation_batches/1.mat')\n",
    "nums = mat_contents['affNISTdata']\n",
    "import matplotlib.pyplot as plt\n",
    "print(nums[0][0][5].shape)\n",
    "labels = nums[0][0][5].T\n",
    "imgs = np.transpose(nums[0][0][2].reshape((40,40, 60000)), (2,0,1))\n",
    "labels"
   ]
  },
  {
   "cell_type": "code",
   "execution_count": 61,
   "metadata": {},
   "outputs": [
    {
     "name": "stdout",
     "output_type": "stream",
     "text": [
      "Training Data Size:  torch.Size([60000, 28, 28]) - torch.Size([60000])\n",
      "Testing Data Size:  torch.Size([10000, 28, 28]) - torch.Size([10000])\n"
     ]
    },
    {
     "data": {
      "image/png": "[encoded data removed]",
      "text/plain": [
       "<Figure size 432x288 with 1 Axes>"
      ]
     },
     "metadata": {
      "needs_background": "light"
     },
     "output_type": "display_data"
    }
   ],
   "source": [
    "import os\n",
    "from torchvision import datasets\n",
    "import torch as th\n",
    "import matplotlib.pyplot as plt\n",
    "# Change this to where you want to save the data\n",
    "SAVE_DIR = os.path.expanduser(os.getcwd()+'/data/MNIST/')\n",
    "# train data\n",
    "mnist_train = datasets.MNIST(SAVE_DIR, train=True, download=True)\n",
    "x_train_mnist, y_train_mnist = mnist_train.train_data.type(th.FloatTensor), mnist_train.train_labels\n",
    "# test data\n",
    "mnist_test = datasets.MNIST(SAVE_DIR, train=False, download=True)\n",
    "x_test_mnist, y_test_mnist = mnist_test.test_data.type(th.FloatTensor), mnist_test.test_labels\n",
    "\n",
    "print('Training Data Size: ' ,x_train_mnist.size(), '-', y_train_mnist.size())\n",
    "print('Testing Data Size: ' ,x_test_mnist.size(), '-', y_test_mnist.size())\n",
    "\n",
    "plt.imshow(x_train_mnist[0].numpy(), cmap='gray')\n",
    "plt.title('DIGIT: %i' % y_train_mnist[0])\n",
    "plt.show()"
   ]
  },
  {
   "cell_type": "code",
   "execution_count": 144,
   "metadata": {},
   "outputs": [],
   "source": []
  },
  {
   "cell_type": "code",
   "execution_count": 4,
   "metadata": {},
   "outputs": [
    {
     "data": {
      "image/png": "[encoded data removed]",
      "text/plain": [
       "<Figure size 432x288 with 1 Axes>"
      ]
     },
     "metadata": {
      "needs_background": "light"
     },
     "output_type": "display_data"
    }
   ],
   "source": [
    "index = 4\n",
    "x_example = x_train_mnist[index]\n",
    "plt.imshow(x_example)\n",
    "plt.show()"
   ]
  },
  {
   "cell_type": "code",
   "execution_count": 5,
   "metadata": {},
   "outputs": [
    {
     "ename": "NameError",
     "evalue": "name 'rot' is not defined",
     "output_type": "error",
     "traceback": [
      "\u001b[0;31m---------------------------------------------------------------------------\u001b[0m",
      "\u001b[0;31mNameError\u001b[0m                                 Traceback (most recent call last)",
      "\u001b[0;32m<ipython-input-5-088ad764e829>\u001b[0m in \u001b[0;36m<module>\u001b[0;34m()\u001b[0m\n\u001b[1;32m      1\u001b[0m \u001b[0;32mimport\u001b[0m \u001b[0mtorch\u001b[0m\u001b[0;34m.\u001b[0m\u001b[0mnn\u001b[0m\u001b[0;34m.\u001b[0m\u001b[0mfunctional\u001b[0m \u001b[0;32mas\u001b[0m \u001b[0mF\u001b[0m\u001b[0;34m\u001b[0m\u001b[0m\n\u001b[1;32m      2\u001b[0m \u001b[0;31m# rotation = torch.Tensor([[1/1.0,0],[0, 1/1.0]])\u001b[0m\u001b[0;34m\u001b[0m\u001b[0;34m\u001b[0m\u001b[0m\n\u001b[0;32m----> 3\u001b[0;31m \u001b[0mrotation\u001b[0m \u001b[0;34m=\u001b[0m \u001b[0mrot\u001b[0m\u001b[0;34m\u001b[0m\u001b[0m\n\u001b[0m\u001b[1;32m      4\u001b[0m \u001b[0mtranslation\u001b[0m \u001b[0;34m=\u001b[0m \u001b[0mtorch\u001b[0m\u001b[0;34m.\u001b[0m\u001b[0mTensor\u001b[0m\u001b[0;34m(\u001b[0m\u001b[0;34m[\u001b[0m\u001b[0;36m0\u001b[0m\u001b[0;34m,\u001b[0m \u001b[0;36m0\u001b[0m\u001b[0;34m]\u001b[0m\u001b[0;34m)\u001b[0m\u001b[0;34m\u001b[0m\u001b[0m\n\u001b[1;32m      5\u001b[0m \u001b[0mtheta\u001b[0m \u001b[0;34m=\u001b[0m \u001b[0mtorch\u001b[0m\u001b[0;34m.\u001b[0m\u001b[0mTensor\u001b[0m\u001b[0;34m(\u001b[0m\u001b[0;34m[\u001b[0m\u001b[0;34m[\u001b[0m\u001b[0;36m0\u001b[0m\u001b[0;34m,\u001b[0m \u001b[0;36m0\u001b[0m\u001b[0;34m,\u001b[0m \u001b[0;36m0\u001b[0m\u001b[0;34m]\u001b[0m\u001b[0;34m,\u001b[0m\u001b[0;34m[\u001b[0m\u001b[0;36m0\u001b[0m\u001b[0;34m,\u001b[0m \u001b[0;36m0\u001b[0m\u001b[0;34m,\u001b[0m \u001b[0;36m0\u001b[0m\u001b[0;34m]\u001b[0m\u001b[0;34m]\u001b[0m\u001b[0;34m)\u001b[0m\u001b[0;34m\u001b[0m\u001b[0m\n",
      "\u001b[0;31mNameError\u001b[0m: name 'rot' is not defined"
     ]
    }
   ],
   "source": [
    "import torch.nn.functional as F\n",
    "# rotation = torch.Tensor([[1/1.0,0],[0, 1/1.0]])\n",
    "rotation = rot\n",
    "translation = torch.Tensor([0, 0])\n",
    "theta = torch.Tensor([[0, 0, 0],[0, 0, 0]])\n",
    "theta[:2, :2] = rotation\n",
    "print(theta[:, 2])\n",
    "theta[:, 2] = translation\n",
    "theta = theta.view(1, 2, 3)\n",
    "print(theta)\n",
    "x_batch = x_example.view(1, 1, 28, 28)\n",
    "x_flat = x_example.view(1, 28 * 28)\n",
    "grid = F.affine_grid(theta, x_batch.size())\n",
    "x = F.grid_sample(x_batch, grid)\n",
    "plt.imshow(x[0][0])\n",
    "\n",
    "u, s, v = torch.svd(x[0][0])"
   ]
  },
  {
   "cell_type": "code",
   "execution_count": 146,
   "metadata": {
    "scrolled": false
   },
   "outputs": [
    {
     "name": "stderr",
     "output_type": "stream",
     "text": [
      "/usr/local/lib/python3.6/dist-packages/ipykernel_launcher.py:79: UserWarning: invalid index of a 0-dim tensor. This will be an error in PyTorch 0.5. Use tensor.item() to convert a 0-dim tensor to a Python number\n"
     ]
    },
    {
     "name": "stdout",
     "output_type": "stream",
     "text": [
      "389\n",
      "XBATCH TYPE <class 'torch.Tensor'>\n",
      "XBATCH SHAPE: torch.Size([1, 1, 28, 28])\n",
      "U first vec: tensor([0.2550, 0.9669], grad_fn=<SelectBackward>)\n",
      "U: tensor([[ 0.2550,  0.9669],\n",
      "        [ 0.9669, -0.2550]], grad_fn=<SvdBackward>)\n",
      "tensor(0.9669, grad_fn=<SelectBackward>) tensor(0.2550, grad_fn=<SelectBackward>)\n",
      "tensor([[ 0.2550,  0.9669],\n",
      "        [ 0.9669, -0.2550]], grad_fn=<SvdBackward>) tensor([[5.3305, 0.0000],\n",
      "        [0.0000, 2.2954]]) tensor(14.3304, grad_fn=<DivBackward1>) tensor(13.9208, grad_fn=<DivBackward1>)\n",
      "THETA SHAPE: torch.Size([1, 2, 3])\n",
      "Results Shape: torch.Size([28, 1])\n",
      "1194\n",
      "XBATCH TYPE <class 'torch.Tensor'>\n",
      "XBATCH SHAPE: torch.Size([1, 1, 28, 28])\n",
      "U first vec: tensor([-0.6847,  0.7288], grad_fn=<SelectBackward>)\n",
      "U: tensor([[-0.6847,  0.7288],\n",
      "        [ 0.7288,  0.6847]], grad_fn=<SvdBackward>)\n",
      "tensor(0.7288, grad_fn=<SelectBackward>) tensor(-0.6847, grad_fn=<SelectBackward>)\n",
      "tensor([[-0.6847,  0.7288],\n",
      "        [ 0.7288,  0.6847]], grad_fn=<SvdBackward>) tensor([[6.1061, 0.0000],\n",
      "        [0.0000, 3.1028]]) tensor(14.1735, grad_fn=<DivBackward1>) tensor(14.4743, grad_fn=<DivBackward1>)\n",
      "THETA SHAPE: torch.Size([1, 2, 3])\n",
      "Results Shape: torch.Size([28, 1])\n",
      "1112\n",
      "XBATCH TYPE <class 'torch.Tensor'>\n",
      "XBATCH SHAPE: torch.Size([1, 1, 28, 28])\n",
      "U first vec: tensor([-0.1906,  0.9817], grad_fn=<SelectBackward>)\n",
      "U: tensor([[-0.1906,  0.9817],\n",
      "        [ 0.9817,  0.1906]], grad_fn=<SvdBackward>)\n",
      "tensor(0.9817, grad_fn=<SelectBackward>) tensor(-0.1906, grad_fn=<SelectBackward>)\n",
      "tensor([[-0.1906,  0.9817],\n",
      "        [ 0.9817,  0.1906]], grad_fn=<SvdBackward>) tensor([[5.3701, 0.0000],\n",
      "        [0.0000, 2.9487]]) tensor(14.3478, grad_fn=<DivBackward1>) tensor(14.2890, grad_fn=<DivBackward1>)\n",
      "THETA SHAPE: torch.Size([1, 2, 3])\n",
      "Results Shape: torch.Size([28, 1])\n",
      "87\n",
      "XBATCH TYPE <class 'torch.Tensor'>\n",
      "XBATCH SHAPE: torch.Size([1, 1, 28, 28])\n",
      "U first vec: tensor([0.4197, 0.9077], grad_fn=<SelectBackward>)\n",
      "U: tensor([[ 0.4197,  0.9077],\n",
      "        [ 0.9077, -0.4197]], grad_fn=<SvdBackward>)\n",
      "tensor(0.9077, grad_fn=<SelectBackward>) tensor(0.4197, grad_fn=<SelectBackward>)\n",
      "tensor([[ 0.4197,  0.9077],\n",
      "        [ 0.9077, -0.4197]], grad_fn=<SvdBackward>) tensor([[5.4669, 0.0000],\n",
      "        [0.0000, 2.9774]]) tensor(13.8124, grad_fn=<DivBackward1>) tensor(13.9407, grad_fn=<DivBackward1>)\n",
      "THETA SHAPE: torch.Size([1, 2, 3])\n",
      "Results Shape: torch.Size([28, 1])\n",
      "162\n",
      "XBATCH TYPE <class 'torch.Tensor'>\n",
      "XBATCH SHAPE: torch.Size([1, 1, 28, 28])\n",
      "U first vec: tensor([-0.1803,  0.9836], grad_fn=<SelectBackward>)\n",
      "U: tensor([[-0.1803,  0.9836],\n",
      "        [ 0.9836,  0.1803]], grad_fn=<SvdBackward>)\n",
      "tensor(0.9836, grad_fn=<SelectBackward>) tensor(-0.1803, grad_fn=<SelectBackward>)\n",
      "tensor([[-0.1803,  0.9836],\n",
      "        [ 0.9836,  0.1803]], grad_fn=<SvdBackward>) tensor([[5.2363, 0.0000],\n",
      "        [0.0000, 2.7242]]) tensor(13.9779, grad_fn=<DivBackward1>) tensor(14.1762, grad_fn=<DivBackward1>)\n",
      "THETA SHAPE: torch.Size([1, 2, 3])\n",
      "Results Shape: torch.Size([28, 1])\n",
      "1272\n",
      "XBATCH TYPE <class 'torch.Tensor'>\n",
      "XBATCH SHAPE: torch.Size([1, 1, 28, 28])\n",
      "U first vec: tensor([0.2827, 0.9592], grad_fn=<SelectBackward>)\n",
      "U: tensor([[ 0.2827,  0.9592],\n",
      "        [ 0.9592, -0.2827]], grad_fn=<SvdBackward>)\n",
      "tensor(0.9592, grad_fn=<SelectBackward>) tensor(0.2827, grad_fn=<SelectBackward>)\n",
      "tensor([[ 0.2827,  0.9592],\n",
      "        [ 0.9592, -0.2827]], grad_fn=<SvdBackward>) tensor([[4.9272, 0.0000],\n",
      "        [0.0000, 4.4500]]) tensor(14.2020, grad_fn=<DivBackward1>) tensor(14.1051, grad_fn=<DivBackward1>)\n",
      "THETA SHAPE: torch.Size([1, 2, 3])\n",
      "Results Shape: torch.Size([28, 1])\n",
      "409\n",
      "XBATCH TYPE <class 'torch.Tensor'>\n",
      "XBATCH SHAPE: torch.Size([1, 1, 28, 28])\n",
      "U first vec: tensor([0.3411, 0.9400], grad_fn=<SelectBackward>)\n",
      "U: tensor([[ 0.3411,  0.9400],\n",
      "        [ 0.9400, -0.3411]], grad_fn=<SvdBackward>)\n",
      "tensor(0.9400, grad_fn=<SelectBackward>) tensor(0.3411, grad_fn=<SelectBackward>)\n",
      "tensor([[ 0.3411,  0.9400],\n",
      "        [ 0.9400, -0.3411]], grad_fn=<SvdBackward>) tensor([[5.3415, 0.0000],\n",
      "        [0.0000, 2.7068]]) tensor(13.9266, grad_fn=<DivBackward1>) tensor(13.6744, grad_fn=<DivBackward1>)\n",
      "THETA SHAPE: torch.Size([1, 2, 3])\n",
      "Results Shape: torch.Size([28, 1])\n",
      "267\n",
      "XBATCH TYPE <class 'torch.Tensor'>\n",
      "XBATCH SHAPE: torch.Size([1, 1, 28, 28])\n",
      "U first vec: tensor([0.0298, 0.9996], grad_fn=<SelectBackward>)\n",
      "U: tensor([[ 0.0298,  0.9996],\n",
      "        [ 0.9996, -0.0298]], grad_fn=<SvdBackward>)\n",
      "tensor(0.9996, grad_fn=<SelectBackward>) tensor(0.0298, grad_fn=<SelectBackward>)\n",
      "tensor([[ 0.0298,  0.9996],\n",
      "        [ 0.9996, -0.0298]], grad_fn=<SvdBackward>) tensor([[5.4575, 0.0000],\n",
      "        [0.0000, 2.5014]]) tensor(13.9080, grad_fn=<DivBackward1>) tensor(14.0916, grad_fn=<DivBackward1>)\n",
      "THETA SHAPE: torch.Size([1, 2, 3])\n",
      "Results Shape: torch.Size([28, 1])\n",
      "887\n",
      "XBATCH TYPE <class 'torch.Tensor'>\n",
      "XBATCH SHAPE: torch.Size([1, 1, 28, 28])\n",
      "U first vec: tensor([0.5416, 0.8407], grad_fn=<SelectBackward>)\n",
      "U: tensor([[ 0.5416,  0.8407],\n",
      "        [ 0.8407, -0.5416]], grad_fn=<SvdBackward>)\n",
      "tensor(0.8407, grad_fn=<SelectBackward>) tensor(0.5416, grad_fn=<SelectBackward>)\n",
      "tensor([[ 0.5416,  0.8407],\n",
      "        [ 0.8407, -0.5416]], grad_fn=<SvdBackward>) tensor([[5.3728, 0.0000],\n",
      "        [0.0000, 3.7318]]) tensor(13.7397, grad_fn=<DivBackward1>) tensor(14.3196, grad_fn=<DivBackward1>)\n",
      "THETA SHAPE: torch.Size([1, 2, 3])\n",
      "Results Shape: torch.Size([28, 1])\n",
      "1950\n",
      "XBATCH TYPE <class 'torch.Tensor'>\n",
      "XBATCH SHAPE: torch.Size([1, 1, 28, 28])\n",
      "U first vec: tensor([-0.4783,  0.8782], grad_fn=<SelectBackward>)\n",
      "U: tensor([[-0.4783,  0.8782],\n",
      "        [ 0.8782,  0.4783]], grad_fn=<SvdBackward>)\n",
      "tensor(0.8782, grad_fn=<SelectBackward>) tensor(-0.4783, grad_fn=<SelectBackward>)\n",
      "tensor([[-0.4783,  0.8782],\n",
      "        [ 0.8782,  0.4783]], grad_fn=<SvdBackward>) tensor([[4.8994, 0.0000],\n",
      "        [0.0000, 3.7385]]) tensor(14.1622, grad_fn=<DivBackward1>) tensor(13.6243, grad_fn=<DivBackward1>)\n",
      "THETA SHAPE: torch.Size([1, 2, 3])\n",
      "Results Shape: torch.Size([28, 1])\n",
      "1740\n",
      "XBATCH TYPE <class 'torch.Tensor'>\n",
      "XBATCH SHAPE: torch.Size([1, 1, 28, 28])\n",
      "U first vec: tensor([-0.4692,  0.8831], grad_fn=<SelectBackward>)\n",
      "U: tensor([[-0.4692,  0.8831],\n",
      "        [ 0.8831,  0.4692]], grad_fn=<SvdBackward>)\n",
      "tensor(0.8831, grad_fn=<SelectBackward>) tensor(-0.4692, grad_fn=<SelectBackward>)\n",
      "tensor([[-0.4692,  0.8831],\n",
      "        [ 0.8831,  0.4692]], grad_fn=<SvdBackward>) tensor([[5.3975, 0.0000],\n",
      "        [0.0000, 2.9005]]) tensor(13.5624, grad_fn=<DivBackward1>) tensor(13.6349, grad_fn=<DivBackward1>)\n",
      "THETA SHAPE: torch.Size([1, 2, 3])\n",
      "Results Shape: torch.Size([28, 1])\n",
      "1421\n",
      "XBATCH TYPE <class 'torch.Tensor'>\n",
      "XBATCH SHAPE: torch.Size([1, 1, 28, 28])\n",
      "U first vec: tensor([-0.4448, -0.8956], grad_fn=<SelectBackward>)\n",
      "U: tensor([[ 0.4448,  0.8956],\n",
      "        [ 0.8956, -0.4448]], grad_fn=<MmBackward>)\n",
      "tensor(0.8956, grad_fn=<SelectBackward>) tensor(0.4448, grad_fn=<SelectBackward>)\n",
      "tensor([[ 0.4448,  0.8956],\n",
      "        [ 0.8956, -0.4448]], grad_fn=<MmBackward>) tensor([[5.5510, 0.0000],\n",
      "        [0.0000, 1.9487]]) tensor(14.1502, grad_fn=<DivBackward1>) tensor(14.0160, grad_fn=<DivBackward1>)\n",
      "THETA SHAPE: torch.Size([1, 2, 3])\n",
      "Results Shape: torch.Size([28, 1])\n"
     ]
    },
    {
     "data": {
      "image/png": "[encoded data removed]",
      "text/plain": [
       "<Figure size 432x288 with 2 Axes>"
      ]
     },
     "metadata": {
      "needs_background": "light"
     },
     "output_type": "display_data"
    },
    {
     "data": {
      "image/png": "[encoded data removed]",
      "text/plain": [
       "<Figure size 432x288 with 2 Axes>"
      ]
     },
     "metadata": {
      "needs_background": "light"
     },
     "output_type": "display_data"
    },
    {
     "data": {
      "image/png": "[encoded data removed]",
      "text/plain": [
       "<Figure size 432x288 with 2 Axes>"
      ]
     },
     "metadata": {
      "needs_background": "light"
     },
     "output_type": "display_data"
    },
    {
     "data": {
      "image/png": "[encoded data removed]",
      "text/plain": [
       "<Figure size 432x288 with 2 Axes>"
      ]
     },
     "metadata": {
      "needs_background": "light"
     },
     "output_type": "display_data"
    },
    {
     "data": {
      "image/png": "[encoded data removed]",
      "text/plain": [
       "<Figure size 432x288 with 2 Axes>"
      ]
     },
     "metadata": {
      "needs_background": "light"
     },
     "output_type": "display_data"
    },
    {
     "data": {
      "image/png": "[encoded data removed]",
      "text/plain": [
       "<Figure size 432x288 with 2 Axes>"
      ]
     },
     "metadata": {
      "needs_background": "light"
     },
     "output_type": "display_data"
    },
    {
     "data": {
      "image/png": "[encoded data removed]",
      "text/plain": [
       "<Figure size 432x288 with 2 Axes>"
      ]
     },
     "metadata": {
      "needs_background": "light"
     },
     "output_type": "display_data"
    },
    {
     "data": {
      "image/png": "[encoded data removed]",
      "text/plain": [
       "<Figure size 432x288 with 2 Axes>"
      ]
     },
     "metadata": {
      "needs_background": "light"
     },
     "output_type": "display_data"
    },
    {
     "data": {
      "image/png": "[encoded data removed]",
      "text/plain": [
       "<Figure size 432x288 with 2 Axes>"
      ]
     },
     "metadata": {
      "needs_background": "light"
     },
     "output_type": "display_data"
    },
    {
     "data": {
      "image/png": "[encoded data removed]",
      "text/plain": [
       "<Figure size 432x288 with 2 Axes>"
      ]
     },
     "metadata": {
      "needs_background": "light"
     },
     "output_type": "display_data"
    },
    {
     "data": {
      "image/png": "[encoded data removed]",
      "text/plain": [
       "<Figure size 432x288 with 2 Axes>"
      ]
     },
     "metadata": {
      "needs_background": "light"
     },
     "output_type": "display_data"
    },
    {
     "data": {
      "image/png": "[encoded data removed]",
      "text/plain": [
       "<Figure size 432x288 with 2 Axes>"
      ]
     },
     "metadata": {
      "needs_background": "light"
     },
     "output_type": "display_data"
    }
   ],
   "source": [
    "def img_to_coord_tensor(img, img_num, tensor_index):\n",
    "    \"\"\"\n",
    "    Takes in a 4D image and returns the 3*W*H coordinate representation\n",
    "    \"\"\"\n",
    "    _, _, height, width = img.shape\n",
    "    flattened_img = torch.transpose(img[img_num, tensor_index], 0, 1).contiguous().view(width * height)\n",
    "    x_coord = torch.arange(0, width).view(width, 1)\n",
    "    x_coord = x_coord.expand(width, height).contiguous()\n",
    "    x_coord = x_coord.view(width * height).float()\n",
    "\n",
    "    y_coord = torch.arange(height, 0, -1)\n",
    "    y_coord = y_coord.expand(width, height).contiguous()\n",
    "    y_coord = y_coord.view(width * height).float()\n",
    "\n",
    "    new_coord_matrix = np.vstack([x_coord.numpy(), y_coord.numpy()])\n",
    "    img_tensor = torch.stack((x_coord, y_coord, flattened_img))\n",
    "\n",
    "    return img_tensor\n",
    "\n",
    "def weighted_pca(coord_mat):\n",
    "    \"\"\"\n",
    "    Given three real-valued vectors of same length, corresponding to the coordinates\n",
    "    and weight of a 2-dimensional dataset, this function outputs the angle in radians\n",
    "    of the line that aligns with the (weighted) average and main linear component of\n",
    "    the data. For that, first a weighted mean and covariance matrix are computed.\n",
    "    Then u,e,v=svd(cov) is performed, and u * f(x)=0 is solved.\n",
    "    \"\"\"\n",
    "    x_vec = coord_mat[0, :]\n",
    "    y_vec = coord_mat[1, :]\n",
    "    weights = coord_mat[2, :]\n",
    "    weight_mat = torch.diag(weights)\n",
    "    weights_sum = weights.sum()\n",
    "    # Subtract (weighted) mean and compute (weighted) covariance matrix:\n",
    "    eps = 0.0001\n",
    "    weights_sum += eps\n",
    "    mean_x, mean_y = torch.dot(weights, x_vec) / weights_sum, torch.dot(weights, y_vec) / weights_sum\n",
    "    coord_mat[0, :] -= mean_x\n",
    "    coord_mat[1, :] -= mean_y\n",
    "    centered_mat = coord_mat[[0, 1], :]\n",
    "    weighted_cov = torch.mm(centered_mat, torch.mm(weight_mat, torch.t(centered_mat) )) / weights_sum\n",
    "    u,e,v = torch.svd(weighted_cov)\n",
    "    eig_val = torch.sqrt(e)\n",
    "    rotation = rot_mat(pi).float()\n",
    "    print(\"U first vec:\", u[:, 0])\n",
    "    if u[1,0] < 0:\n",
    "        u = torch.matmul(rotation, u)\n",
    "#         pass\n",
    "#         eig_val[0] = -1\n",
    "#     else:\n",
    "#         eig_val[0] = 1\n",
    "    print(\"U:\", u)\n",
    "    scale_mat = torch.Tensor([[eig_val[0], 0], \n",
    "                              [0, eig_val[1]]])\n",
    "#     rotation_mat = torch.stack([eig_val[0]**(-1)*u[:,0], eig_val[1]**(-1)*u[:,1]])\n",
    "#     rotation_mat = torch.t(rotation_mat)\n",
    "    return u, scale_mat, mean_x, mean_y\n",
    "\n",
    "class KernelCompress(torch.nn.Module):\n",
    "    def __init__(self, in_channels):\n",
    "        super(KernelCompress, self).__init__()\n",
    "        self.conv2d = torch.nn.Conv2d(in_channels, 1, 1)   # hidden layer\n",
    "        self.conv2d.weight = torch.nn.Parameter(torch.ones(1,in_channels,1,1))\n",
    "\n",
    "    def forward(self, x):\n",
    "        x = self.conv2d(x)\n",
    "        return x\n",
    "\n",
    "\n",
    "def rot_mat(theta):\n",
    "    theta = torch.Tensor([theta])\n",
    "    c, s = torch.cos(theta), torch.sin(theta)\n",
    "    R = torch.Tensor(((c,-s), (s, c)))\n",
    "    return R\n",
    "\n",
    "compress = KernelCompress(3)\n",
    "target_val = 9\n",
    "for x in range(12):\n",
    "    index = np.random.randint(2000)\n",
    "    while y_train_mnist[index][0].numpy() != target_val:\n",
    "        index = np.random.randint(2000)\n",
    "#     index = 59\n",
    "    print(index)\n",
    "#     x_example1 = x_train_mnist[index]\n",
    "#     x_example1 = x_train_mnist[index]\n",
    "    x_example = x_train_mnist[index]\n",
    "    x_batch = x_example.view(1, 1, 28, 28)\n",
    "    padding = torch.zeros(1, 2, 28, 28)\n",
    "    x_batch = torch.cat((x_batch, padding), 1)\n",
    "    x_batch = compress(x_batch)\n",
    "    print(\"XBATCH TYPE\", type(x_batch))\n",
    "    print(\"XBATCH SHAPE:\", x_batch.shape)\n",
    "    \n",
    "    num_channels = x_batch.shape[0]\n",
    "    theta = torch.zeros(num_channels, 2, 3)\n",
    "    pi = 3.1415926535\n",
    "    \n",
    "    for channel_num in range(num_channels):\n",
    "        x_batch_coord = img_to_coord_tensor(x_batch, channel_num, 0)\n",
    "        \n",
    "\n",
    "        rot, scale, mean_x, mean_y = weighted_pca(x_batch_coord)\n",
    "        print(rot[0][1], rot[0][0])\n",
    "        rot_lambda = torch.atan2(rot[0][1], rot[0][0])\n",
    "#         print(\"LAMBDA:\", np.degrees(rot_lambda))\n",
    "        diff_angle = ((pi / 2) - rot_lambda)\n",
    "#         print(\"DIFF LAMBDA:\", np.degrees(diff_angle))\n",
    "\n",
    "\n",
    "        rotation = rot_mat(diff_angle).float()\n",
    "\n",
    "        theta[channel_num, :2, :2] = rotation\n",
    "        print(rot, scale, mean_x, mean_y)\n",
    "\n",
    "    fig, ax = plt.subplots(1, 2)\n",
    "    \n",
    "    print(\"THETA SHAPE:\", theta.shape)\n",
    "\n",
    "    grid = F.affine_grid(theta, x_batch.size())\n",
    "    x = F.grid_sample(x_batch, grid)\n",
    "    x = x.view(1, 28, 28)\n",
    "    x = x.permute(1, 2, 0)\n",
    "    print(\"Results Shape:\", x[0].shape)\n",
    " \n",
    "    x_batch = x_batch.view(1, 28, 28)\n",
    "    x_batch = x_batch.permute(1, 2, 0)\n",
    "    ax[0].imshow(x_batch[:, :, 0].data)\n",
    "    ax[1].imshow(x[:,:,0].data)\n",
    "#     ax[2].imshow(x[:,:,0].data)\n",
    "    ax[0].plot(mean_x.data, mean_y.data, 'r*')\n",
    "    ax[0].plot(mean_x.data+rot[0][0].data*10, x.data[0].shape[0] - (mean_y.data+rot.data[0][1]*10), 'r*')"
   ]
  },
  {
   "cell_type": "code",
   "execution_count": 64,
   "metadata": {},
   "outputs": [
    {
     "name": "stdout",
     "output_type": "stream",
     "text": [
      "tensor([[1., 1.],\n",
      "        [2., 2.]])\n",
      "tensor([[ 1.,  1.],\n",
      "        [-3., -3.]])\n"
     ]
    }
   ],
   "source": [
    "class ShapeWhitening(torch.nn.Module):\n",
    "    \"\"\"\n",
    "    PyTorch layer for applying shape whitening decomposition\n",
    "    \"\"\"\n",
    "    \n",
    "    def __init__(self):\n",
    "        super(ShapeWhitening, self).__init__()\n",
    "    \n",
    "    def weighted_pca(self, coord_mat):\n",
    "        \"\"\"\n",
    "        Given three real-valued vectors of same length, corresponding to the coordinates\n",
    "        and weight of a 2-dimensional dataset, this function outputs the angle in radians\n",
    "        of the line that aligns with the (weighted) average and main linear component of\n",
    "        the data. For that, first a weighted mean and covariance matrix are computed.\n",
    "        Then u,e,v=svd(cov) is performed, and u * f(x)=0 is solved.\n",
    "        \"\"\"\n",
    "        coord_mat = self.img_to_coord_tensor(img_batch, img_num, kernel_num)\n",
    "        x_vec = coord_mat[0, :]\n",
    "        y_vec = coord_mat[1, :]\n",
    "        weights = coord_mat[2, :]\n",
    "        weight_mat = torch.diag(weights)\n",
    "        weights_sum = weights.sum()\n",
    "        # Subtract (weighted) mean and compute (weighted) covariance matrix:\n",
    "        eps = 0.0001\n",
    "        weights_sum += eps\n",
    "        mean_x, mean_y = torch.dot(weights, x_vec) / weights_sum, torch.dot(weights, y_vec) / weights_sum\n",
    "        coord_mat[0, :] -= mean_x\n",
    "        coord_mat[1, :] -= mean_y\n",
    "        centered_mat = coord_mat[[0, 1], :]\n",
    "        weighted_cov = torch.mm(centered_mat, torch.mm(weight_mat, torch.t(centered_mat) )) / weights_sum\n",
    "        u,e,v = torch.svd(weighted_cov)\n",
    "        eig_val = torch.sqrt(e)\n",
    "        rotation = rot_mat(pi).float()\n",
    "        print(\"U first vec:\", u[:, 0])\n",
    "        if u[1,0] < 0:\n",
    "            u = torch.matmul(rotation, u)\n",
    "        print(\"U:\", u)\n",
    "        scale_mat = torch.Tensor([[eig_val[0], 0], \n",
    "                                  [0, eig_val[1]]])\n",
    "    #     rotation_mat = torch.stack([eig_val[0]**(-1)*u[:,0], eig_val[1]**(-1)*u[:,1]])\n",
    "    #     rotation_mat = torch.t(rotation_mat)\n",
    "        return u, scale_mat, mean_x, mean_y\n",
    "    \n",
    "    def img_to_coord_tensor(self, img, img_num, kernel_num):\n",
    "        \"\"\"\n",
    "        Takes in a 4D image and returns the 3*W*H coordinate representation\n",
    "        \"\"\"\n",
    "        _, _, height, width = img.shape\n",
    "        flattened_img = torch.transpose(img[img_num, tensor_index], 0, 1).contiguous().view(width * height)\n",
    "        x_coord = torch.arange(0, width).view(width, 1)\n",
    "        x_coord = x_coord.expand(width, height).contiguous()\n",
    "        x_coord = x_coord.view(width * height).float()\n",
    "\n",
    "        y_coord = torch.arange(height, 0, -1)\n",
    "        y_coord = y_coord.expand(width, height).contiguous()\n",
    "        y_coord = y_coord.view(width * height).float()\n",
    "\n",
    "        new_coord_matrix = np.vstack([x_coord.numpy(), y_coord.numpy()])\n",
    "        img_tensor = torch.stack((x_coord, y_coord, flattened_img))\n",
    "\n",
    "        return img_tensor\n",
    "    \n",
    "    def reorient_img(self, x_batch, rot, scale, mean_x, mean_y):\n",
    "        rot_lambda = torch.atan2(rot[0][1], rot[0][0])\n",
    "        diff_angle = ((pi / 2) - rot_lambda)\n",
    "\n",
    "        theta = torch.Tensor([[0, 0, 0],[0, 0, 0]])\n",
    "        rotation = torch.from_numpy(rot_mat(diff_angle))\n",
    "        theta[:2, :2] = rotation\n",
    "        theta = theta.view(1, 2, 3)\n",
    "\n",
    "\n",
    "        grid = F.affine_grid(theta, x_batch.size())\n",
    "        x = F.grid_sample(x_batch, grid)\n",
    "        \n",
    "        return x\n",
    "\n",
    "    def forward(self, img_tensor):\n",
    "        img_num, channel_num, new_height, new_width = tensor_img_batch.shape\n",
    "        for img_index in range(img_num):\n",
    "            x_batch_coord = self.img_to_coord_tensor(img_tensor, img_index, tensor_index)\n",
    "            rot, scale, mean_x, mean_y = self.weighted_pca(x_batch_coord)\n",
    "\n",
    "            ### Setting theta Tensor\n",
    "            theta = torch.Tensor([[0, 0, 0],[0, 0, 0]])\n",
    "            rotation = torch.from_numpy(rot_mat(diff_angle))\n",
    "            theta[:2, :2] = rotation\n",
    "            theta = theta.view(1, 2, 3)\n",
    "\n",
    "            grid = F.affine_grid(theta, img_tensor.size())\n",
    "            img_tensor= F.grid_sample(img_tensor, grid)                \n",
    "                \n",
    "        return tensor_img"
   ]
  },
  {
   "cell_type": "code",
   "execution_count": 102,
   "metadata": {},
   "outputs": [
    {
     "name": "stdout",
     "output_type": "stream",
     "text": [
      "tensor([[[1., 2.],\n",
      "         [3., 4.]],\n",
      "\n",
      "        [[0., 0.],\n",
      "         [0., 0.]],\n",
      "\n",
      "        [[0., 0.],\n",
      "         [0., 0.]]])\n",
      "torch.Size([3, 2, 2])\n"
     ]
    }
   ],
   "source": [
    "A = torch.Tensor([[1,2],[3,4]])\n",
    "B = torch.zeros(2,2,2)\n",
    "A = A.view(1, 2, 2)\n",
    "C = torch.cat((A, B), 0)\n",
    "print(C)\n",
    "print(C.shape)"
   ]
  }
 ],
 "metadata": {
  "kernelspec": {
   "display_name": "py_36_env",
   "language": "python",
   "name": "py_36_env"
  },
  "language_info": {
   "codemirror_mode": {
    "name": "ipython",
    "version": 3
   },
   "file_extension": ".py",
   "mimetype": "text/x-python",
   "name": "python",
   "nbconvert_exporter": "python",
   "pygments_lexer": "ipython3",
   "version": "3.6.5"
  }
 },
 "nbformat": 4,
 "nbformat_minor": 2
}
